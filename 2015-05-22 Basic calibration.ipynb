{
 "cells": [
  {
   "cell_type": "markdown",
   "metadata": {
    "slideshow": {
     "slide_type": "slide"
    }
   },
   "source": [
    "# Simplest example for my IPython parallel use"
   ]
  },
  {
   "cell_type": "code",
   "execution_count": 1,
   "metadata": {
    "collapsed": true,
    "slideshow": {
     "slide_type": "slide"
    }
   },
   "outputs": [],
   "source": [
    "import pandas as pd\n",
    "import glob\n",
    "folders = glob.glob('/Volumes/Data/ciss/opus/N*')"
   ]
  },
  {
   "cell_type": "code",
   "execution_count": 2,
   "metadata": {
    "collapsed": false
   },
   "outputs": [
    {
     "data": {
      "text/plain": [
       "490"
      ]
     },
     "execution_count": 2,
     "metadata": {},
     "output_type": "execute_result"
    }
   ],
   "source": [
    "len(folders)"
   ]
  },
  {
   "cell_type": "code",
   "execution_count": 3,
   "metadata": {
    "collapsed": false
   },
   "outputs": [],
   "source": [
    "def process_folder(folder):\n",
    "    import glob\n",
    "    from pysis.exceptions import ProcessError\n",
    "    from pyciss import pipeline as p\n",
    "#     done = glob.glob(folder+'/*.map.cal.cub')\n",
    "#     if done:\n",
    "#         return folder,True\n",
    "    img_name = glob.glob(folder+'/*.LBL')\n",
    "    try:\n",
    "        map_name = p.calibrate_ciss(img_name[0])\n",
    "    except ProcessError:\n",
    "        return folder,False\n",
    "    return folder,True"
   ]
  },
  {
   "cell_type": "code",
   "execution_count": 4,
   "metadata": {
    "collapsed": false,
    "slideshow": {
     "slide_type": "subslide"
    }
   },
   "outputs": [],
   "source": [
    "folders = pd.Series(folders)"
   ]
  },
  {
   "cell_type": "markdown",
   "metadata": {},
   "source": [
    "### Using pandas mostly for its data wrangling capabilities"
   ]
  },
  {
   "cell_type": "code",
   "execution_count": 5,
   "metadata": {
    "collapsed": false
   },
   "outputs": [
    {
     "data": {
      "text/plain": [
       "0     /Volumes/Data/ciss/opus/N1467345444\n",
       "1     /Volumes/Data/ciss/opus/N1467345503\n",
       "2     /Volumes/Data/ciss/opus/N1467345562\n",
       "3     /Volumes/Data/ciss/opus/N1467345621\n",
       "4     /Volumes/Data/ciss/opus/N1467345680\n",
       "5     /Volumes/Data/ciss/opus/N1467345739\n",
       "6     /Volumes/Data/ciss/opus/N1467345798\n",
       "7     /Volumes/Data/ciss/opus/N1467345857\n",
       "8     /Volumes/Data/ciss/opus/N1467345916\n",
       "9     /Volumes/Data/ciss/opus/N1467345975\n",
       "10    /Volumes/Data/ciss/opus/N1467346034\n",
       "11    /Volumes/Data/ciss/opus/N1467346093\n",
       "12    /Volumes/Data/ciss/opus/N1467346152\n",
       "13    /Volumes/Data/ciss/opus/N1467346211\n",
       "14    /Volumes/Data/ciss/opus/N1467346270\n",
       "15    /Volumes/Data/ciss/opus/N1467346329\n",
       "16    /Volumes/Data/ciss/opus/N1467346388\n",
       "17    /Volumes/Data/ciss/opus/N1467346447\n",
       "18    /Volumes/Data/ciss/opus/N1467346506\n",
       "19    /Volumes/Data/ciss/opus/N1467346565\n",
       "20    /Volumes/Data/ciss/opus/N1467346624\n",
       "21    /Volumes/Data/ciss/opus/N1467347210\n",
       "22    /Volumes/Data/ciss/opus/N1467347249\n",
       "23    /Volumes/Data/ciss/opus/N1467347445\n",
       "24    /Volumes/Data/ciss/opus/N1467347504\n",
       "dtype: object"
      ]
     },
     "execution_count": 5,
     "metadata": {},
     "output_type": "execute_result"
    }
   ],
   "source": [
    "SOI = folders[folders.str.contains('N146734')]\n",
    "SOI"
   ]
  },
  {
   "cell_type": "markdown",
   "metadata": {},
   "source": [
    "Before this, you need to launch some ipengines with \n",
    "the \"Cluster\" tab in the IPython notebook dashboard."
   ]
  },
  {
   "cell_type": "code",
   "execution_count": 6,
   "metadata": {
    "collapsed": false,
    "slideshow": {
     "slide_type": "subslide"
    }
   },
   "outputs": [],
   "source": [
    "from IPython.parallel import Client\n",
    "c = Client()"
   ]
  },
  {
   "cell_type": "markdown",
   "metadata": {},
   "source": [
    "Getting the load balanced view, because I don't care where which file is processed.\n",
    "(Most embarassing parallel possible)"
   ]
  },
  {
   "cell_type": "code",
   "execution_count": 7,
   "metadata": {
    "collapsed": true
   },
   "outputs": [],
   "source": [
    "lbview = c.load_balanced_view()"
   ]
  },
  {
   "cell_type": "markdown",
   "metadata": {},
   "source": [
    "* Using `map_async` so that I can do other stuff, while engines are working.\n",
    "* But `results` is my handle to what is going on in the background."
   ]
  },
  {
   "cell_type": "code",
   "execution_count": 8,
   "metadata": {
    "collapsed": true
   },
   "outputs": [],
   "source": [
    "results = lbview.map_async(process_folder, SOI)"
   ]
  },
  {
   "cell_type": "markdown",
   "metadata": {
    "slideshow": {
     "slide_type": "subslide"
    }
   },
   "source": [
    "Using a widget called `IntProgress` for simple progress bar."
   ]
  },
  {
   "cell_type": "code",
   "execution_count": 9,
   "metadata": {
    "collapsed": false
   },
   "outputs": [
    {
     "name": "stderr",
     "output_type": "stream",
     "text": [
      ":0: FutureWarning: IPython widgets are experimental and may change in the future.\n"
     ]
    }
   ],
   "source": [
    "from IPython.html.widgets import IntProgress\n",
    "from IPython.display import display"
   ]
  },
  {
   "cell_type": "code",
   "execution_count": 10,
   "metadata": {
    "collapsed": false
   },
   "outputs": [],
   "source": [
    "from time import sleep\n",
    "prog = IntProgress(min=0, max=len(SOI)+1)\n",
    "display(prog)\n",
    "while not results.ready():\n",
    "    prog.value = results.progress\n",
    "    sleep(5)"
   ]
  },
  {
   "cell_type": "markdown",
   "metadata": {
    "collapsed": true,
    "slideshow": {
     "slide_type": "subslide"
    }
   },
   "source": [
    "Put this just in a tool module for easy calling:"
   ]
  },
  {
   "cell_type": "code",
   "execution_count": null,
   "metadata": {
    "collapsed": true
   },
   "outputs": [],
   "source": [
    "from IPython.html.widgets import IntProgress\n",
    "from IPython.display import display\n",
    "from time import sleep\n",
    "def show_progress(results, worklist):\n",
    "    prog = IntProgress(min=0, max=len(worklist))\n",
    "    display(prog)\n",
    "    while not results.ready():\n",
    "        prog.value = results.progress\n",
    "        sleep(5)\n",
    "        \n",
    "show_progress(results, SOI)"
   ]
  }
 ],
 "metadata": {
  "celltoolbar": "Slideshow",
  "kernelspec": {
   "display_name": "Python 3",
   "language": "python",
   "name": "python3"
  },
  "language_info": {
   "codemirror_mode": {
    "name": "ipython",
    "version": 3
   },
   "file_extension": ".py",
   "mimetype": "text/x-python",
   "name": "python",
   "nbconvert_exporter": "python",
   "pygments_lexer": "ipython3",
   "version": "3.4.3"
  }
 },
 "nbformat": 4,
 "nbformat_minor": 0
}
